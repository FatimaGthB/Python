{
 "cells": [
  {
   "cell_type": "markdown",
   "metadata": {},
   "source": [
    "# Trouver les éléments communs à deux listes / ensembles"
   ]
  },
  {
   "cell_type": "code",
   "execution_count": 1,
   "metadata": {},
   "outputs": [
    {
     "name": "stdout",
     "output_type": "stream",
     "text": [
      "[10, 5, 7]\n"
     ]
    }
   ],
   "source": [
    "liste_01 = [1, 5, 6, 7, 9, 10, 11]\n",
    "liste_02 = [2, 3, 5, 7, 8, 10, 12]\n",
    "\n",
    "sliste_01 = set(liste_01)       #la fonction set permet de construire une collection non ordonnée d'éléments uniques.\n",
    "sliste_02 = set(liste_02)\n",
    "\n",
    "resultat = list(sliste_01.intersection(sliste_02))\n",
    "print(resultat)\n",
    "\n",
    "#intersection renvoie l'intersection de deux ENSEMBLES sous la forme d'un nouvel ensemble."
   ]
  },
  {
   "cell_type": "code",
   "execution_count": 9,
   "metadata": {},
   "outputs": [
    {
     "name": "stdout",
     "output_type": "stream",
     "text": [
      "[10, 5, 7]\n"
     ]
    }
   ],
   "source": [
    "set_01 = {1, 5, 6, 7, 9, 10, 11}\n",
    "set_02 = {2, 3, 5, 7, 8, 10, 12}\n",
    "\n",
    "resultat = list(set_01.intersection(set_02))\n",
    "print(resultat)\n"
   ]
  },
  {
   "cell_type": "markdown",
   "metadata": {},
   "source": [
    "# Créer une pyramide de symboles"
   ]
  },
  {
   "cell_type": "code",
   "execution_count": 16,
   "metadata": {},
   "outputs": [
    {
     "name": "stdout",
     "output_type": "stream",
     "text": [
      "         $ \n",
      "        $ $ \n",
      "       $ $ $ \n",
      "      $ $ $ $ \n",
      "     $ $ $ $ $ \n",
      "    $ $ $ $ $ $ \n",
      "   $ $ $ $ $ $ $ \n",
      "  $ $ $ $ $ $ $ $ \n",
      " $ $ $ $ $ $ $ $ $ \n",
      "$ $ $ $ $ $ $ $ $ $ \n"
     ]
    }
   ],
   "source": [
    "symbole = \"$\"\n",
    "taille = 10\n",
    "for i in range(1, taille+1):\n",
    "    espaces = \" \" * (taille - i)\n",
    "    print(espaces + (symbole + \" \" ) * i)"
   ]
  },
  {
   "cell_type": "markdown",
   "metadata": {},
   "source": [
    "# récupérer la date d'aujourd'hui"
   ]
  },
  {
   "cell_type": "code",
   "execution_count": 18,
   "metadata": {},
   "outputs": [
    {
     "name": "stdout",
     "output_type": "stream",
     "text": [
      "26 September 2023\n"
     ]
    }
   ],
   "source": [
    "from datetime import datetime\n",
    "\n",
    "date_today = datetime.today().strftime(\"%d %B %Y\")\n",
    "print(date_today)"
   ]
  },
  {
   "cell_type": "markdown",
   "metadata": {},
   "source": [
    "# Créer une liste de nombres pairs de 1 à 100"
   ]
  },
  {
   "cell_type": "code",
   "execution_count": 30,
   "metadata": {},
   "outputs": [
    {
     "name": "stdout",
     "output_type": "stream",
     "text": [
      "[2, 4, 6, 8, 10, 12, 14, 16, 18, 20, 22, 24, 26, 28, 30, 32, 34, 36, 38, 40, 42, 44, 46, 48, 50, 52, 54, 56, 58, 60, 62, 64, 66, 68, 70, 72, 74, 76, 78, 80, 82, 84, 86, 88, 90, 92, 94, 96, 98, 100]\n"
     ]
    }
   ],
   "source": [
    "l= list()\n",
    "for i in range (1,101):\n",
    "    if i % 2 == 0 :\n",
    "        r = i  \n",
    "    else:\n",
    "        r = i + 1\n",
    "    l.append(r)\n",
    "new = set(l)  #pour éviter les doublons\n",
    "liste = list(new) #pour convertir l'ensemble en liste\n",
    "print(liste)\n"
   ]
  },
  {
   "cell_type": "code",
   "execution_count": 29,
   "metadata": {},
   "outputs": [
    {
     "name": "stdout",
     "output_type": "stream",
     "text": [
      "[2, 4, 6, 8, 10, 12, 14, 16, 18, 20, 22, 24, 26, 28, 30, 32, 34, 36, 38, 40, 42, 44, 46, 48, 50, 52, 54, 56, 58, 60, 62, 64, 66, 68, 70, 72, 74, 76, 78, 80, 82, 84, 86, 88, 90, 92, 94, 96, 98, 100]\n"
     ]
    }
   ],
   "source": [
    "liste_nombre_pairs = range(2, 101, 2)\n",
    "resultat = list(liste_nombre_pairs)\n",
    "print(resultat)"
   ]
  },
  {
   "cell_type": "markdown",
   "metadata": {},
   "source": [
    "# afficher une moitié de losange d'étoiles"
   ]
  },
  {
   "cell_type": "code",
   "execution_count": 44,
   "metadata": {},
   "outputs": [
    {
     "name": "stdout",
     "output_type": "stream",
     "text": [
      "*\n",
      "**\n",
      "***\n",
      "****\n",
      "*****\n",
      "******\n",
      "*****\n",
      "****\n",
      "***\n",
      "**\n",
      "*\n"
     ]
    }
   ],
   "source": [
    "n =  6\n",
    "symbol = \"*\"\n",
    "for i in range (1, n + 1):\n",
    "    r = symbol * i \n",
    "    print(r)\n",
    "for j in range(1,  n):\n",
    "    c = symbol * (n-j)\n",
    "    print(c)"
   ]
  },
  {
   "cell_type": "code",
   "execution_count": 45,
   "metadata": {},
   "outputs": [
    {
     "name": "stdout",
     "output_type": "stream",
     "text": [
      "*\n",
      "**\n",
      "***\n",
      "****\n",
      "*****\n",
      "******\n",
      "*****\n",
      "****\n",
      "***\n",
      "**\n",
      "*\n"
     ]
    }
   ],
   "source": [
    "n = 6\n",
    "i = 0\n",
    "nombres = list(range(1, n+1, 1)) + list(range(n-1, 0, -1))\n",
    "for i in nombres:\n",
    "\tprint(\"*\"*i)"
   ]
  },
  {
   "cell_type": "markdown",
   "metadata": {},
   "source": [
    "# Calculer la moyenne des élèves\n"
   ]
  },
  {
   "cell_type": "code",
   "execution_count": 53,
   "metadata": {},
   "outputs": [
    {
     "data": {
      "text/plain": [
       "{'Adrienne': 11.0,\n",
       " 'Joséphine': 14.0,\n",
       " 'Margaret': 11.0,\n",
       " 'Michel': 1.0,\n",
       " 'Olivier': 4.6,\n",
       " 'René': 18.0,\n",
       " 'Édouard': 12.8}"
      ]
     },
     "execution_count": 53,
     "metadata": {},
     "output_type": "execute_result"
    }
   ],
   "source": [
    "classe = {'Adrienne': [4, 18],\n",
    "          'Joséphine': [10, 12, 20],\n",
    "          'Margaret': [11],\n",
    "          'Michel': [1],\n",
    "          'Olivier': [1, 2, 3, 10, 7],\n",
    "          'René': [17, 17, 20],\n",
    "          'Édouard': [5, 17, 14, 12, 16]}\n",
    "\n",
    "def moyenne_eleves(classe):\n",
    "    d = {}\n",
    "    for key, value in classe.items():\n",
    "        d[key] = sum(value) / len(value)\n",
    "    return d\n",
    "moyenne_eleves(classe)\n"
   ]
  },
  {
   "cell_type": "markdown",
   "metadata": {},
   "source": [
    "# Calculer les prix réduits\n",
    "#écrire un script qui calcule le prix de chaque produit avec une réduction de 10% et stocke les résultats dans un dictionnaire nommé reductions."
   ]
  },
  {
   "cell_type": "code",
   "execution_count": 58,
   "metadata": {},
   "outputs": [
    {
     "name": "stdout",
     "output_type": "stream",
     "text": [
      "{'Ordinateur': 900.0, 'Smartphone': 450.0, 'Tablette': 270.0}\n"
     ]
    }
   ],
   "source": [
    "produits = [\n",
    "    {\"nom\": \"Ordinateur\", \"prix\": 1000},\n",
    "    {\"nom\": \"Smartphone\", \"prix\": 500},\n",
    "    {\"nom\": \"Tablette\", \"prix\": 300},\n",
    "]\n",
    "reductions = {}\n",
    "\n",
    "\n",
    "for produit in produits:\n",
    "    reductions[produit[\"nom\"]] = produit[\"prix\"] * 0.9\n",
    "print(reductions)"
   ]
  },
  {
   "cell_type": "markdown",
   "metadata": {},
   "source": [
    "# Compter le nombre d'occurrence d'un mot dans un texte\n"
   ]
  },
  {
   "cell_type": "code",
   "execution_count": 60,
   "metadata": {},
   "outputs": [
    {
     "name": "stdout",
     "output_type": "stream",
     "text": [
      "1\n"
     ]
    }
   ],
   "source": [
    "lorem = \"Lorem ipsum dolor sit amet, consectetur adipiscing elit, sed do eiusmod tempor incididunt ut labore et dolore magna aliqua. Ut enim ad minim veniam, quis nostrud exercitation ullamco laboris nisi ut aliquip ex ea commodo consequat. Duis aute irure dolor in reprehenderit in voluptate velit esse cillum dolore eu fugiat nulla pariatur. Excepteur sint occaecat cupidatat non proident, sunt in culpa qui officia deserunt mollit anim id est laborum.\"\n",
    "\n",
    "mot = \"elit\"\n",
    "\n",
    "lorem = lorem.replace(\",\", \"\").replace(\".\", \"\")\n",
    "lorem = lorem.lower()\n",
    "lorem_split = lorem.split()\n",
    "resultat = lorem_split.count(mot)\n",
    "print(resultat)"
   ]
  },
  {
   "cell_type": "code",
   "execution_count": 61,
   "metadata": {},
   "outputs": [
    {
     "name": "stdout",
     "output_type": "stream",
     "text": [
      "1\n"
     ]
    }
   ],
   "source": [
    "lorem = \"Lorem ipsum dolor sit amet, consectetur adipiscing elit, sed do eiusmod tempor incididunt ut labore et dolore magna aliqua. Ut enim ad minim veniam, quis nostrud exercitation ullamco laboris nisi ut aliquip ex ea commodo consequat. Duis aute irure dolor in reprehenderit in voluptate velit esse cillum dolore eu fugiat nulla pariatur. Excepteur sint occaecat cupidatat non proident, sunt in culpa qui officia deserunt mollit anim id est laborum.\"\n",
    "resultat = lorem.count(\" elit\")\n",
    "print(resultat)"
   ]
  },
  {
   "cell_type": "markdown",
   "metadata": {},
   "source": [
    "# modifier la variable path du module `sys.\n",
    "\n",
    "#importer ce module et ajouter à la variable path le chemin"
   ]
  },
  {
   "cell_type": "code",
   "execution_count": 1,
   "metadata": {},
   "outputs": [
    {
     "name": "stdout",
     "output_type": "stream",
     "text": [
      "['c:\\\\Users\\\\ASUS ExpertBook\\\\Documents\\\\test\\\\docstring', 'c:\\\\Program Files\\\\Python311\\\\python311.zip', 'c:\\\\Program Files\\\\Python311\\\\DLLs', 'c:\\\\Program Files\\\\Python311\\\\Lib', 'c:\\\\Program Files\\\\Python311', '', 'C:\\\\Users\\\\ASUS ExpertBook\\\\AppData\\\\Roaming\\\\Python\\\\Python311\\\\site-packages', 'C:\\\\Users\\\\ASUS ExpertBook\\\\AppData\\\\Roaming\\\\Python\\\\Python311\\\\site-packages\\\\win32', 'C:\\\\Users\\\\ASUS ExpertBook\\\\AppData\\\\Roaming\\\\Python\\\\Python311\\\\site-packages\\\\win32\\\\lib', 'C:\\\\Users\\\\ASUS ExpertBook\\\\AppData\\\\Roaming\\\\Python\\\\Python311\\\\site-packages\\\\Pythonwin', 'c:\\\\Program Files\\\\Python311\\\\Lib\\\\site-packages', '/Users/Docstring/mon_module_python']\n"
     ]
    }
   ],
   "source": [
    "from sys import path\n",
    "\n",
    "path.append(\"/Users/Docstring/mon_module_python\")\n",
    "print(path)\n",
    "\n",
    "#Pour importer un module, on utilise l'instruction import. La variable path du module sys est une liste.\n",
    "#Pour ajouter un élément à une liste, on utilise la méthode append."
   ]
  }
 ],
 "metadata": {
  "kernelspec": {
   "display_name": "Python 3",
   "language": "python",
   "name": "python3"
  },
  "language_info": {
   "codemirror_mode": {
    "name": "ipython",
    "version": 3
   },
   "file_extension": ".py",
   "mimetype": "text/x-python",
   "name": "python",
   "nbconvert_exporter": "python",
   "pygments_lexer": "ipython3",
   "version": "3.11.4"
  },
  "orig_nbformat": 4
 },
 "nbformat": 4,
 "nbformat_minor": 2
}
